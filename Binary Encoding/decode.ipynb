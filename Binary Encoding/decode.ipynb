{
 "cells": [
  {
   "cell_type": "code",
   "execution_count": 1,
   "metadata": {},
   "outputs": [],
   "source": [
    "import os\n",
    "import numpy as np\n",
    "from PIL import Image"
   ]
  },
  {
   "cell_type": "code",
   "execution_count": 2,
   "metadata": {},
   "outputs": [],
   "source": [
    "folder = 'images'\n",
    "num_images = 1\n",
    "zeros_added = 6256432\n"
   ]
  },
  {
   "cell_type": "code",
   "execution_count": 3,
   "metadata": {},
   "outputs": [
    {
     "name": "stdout",
     "output_type": "stream",
     "text": [
      "length of Decoded Binary String: 8294400\n"
     ]
    }
   ],
   "source": [
    "#Decode\n",
    "width = 3840\n",
    "height = 2160\n",
    "color_0 = (255, 255, 255)  # White\n",
    "color_1 = (0, 0, 0)        # Black\n",
    "\n",
    "def image_to_binary(image_path):\n",
    "    image = Image.open(image_path)\n",
    "    pixels = image.load()\n",
    "    binary_string = \"\"\n",
    "\n",
    "    for y in range(height):\n",
    "        for x in range(width):\n",
    "            binary_string += '0' if pixels[x, y] == color_0 else '1'\n",
    "\n",
    "    return binary_string\n",
    "\n",
    "binary_string = \"\"\n",
    "\n",
    "for i in range(1, num_images + 1):\n",
    "    image_filename = os.path.join(folder, f'image_{i}.png')\n",
    "    binary_string += image_to_binary(image_filename)\n",
    "\n",
    "print(\"length of Decoded Binary String:\", len(binary_string))\n"
   ]
  },
  {
   "cell_type": "code",
   "execution_count": 4,
   "metadata": {},
   "outputs": [
    {
     "name": "stdout",
     "output_type": "stream",
     "text": [
      "2037968\n"
     ]
    }
   ],
   "source": [
    "original_binary_string = binary_string[:-zeros_added]\n",
    "print(len(original_binary_string))"
   ]
  },
  {
   "cell_type": "code",
   "execution_count": 5,
   "metadata": {},
   "outputs": [],
   "source": [
    "output = './output.pdf'\n",
    "bytes_data = [int(original_binary_string[i:i+8], 2) for i in range(0, len(original_binary_string), 8)]\n",
    "binary_data = bytes(bytes_data)\n",
    "with open(output, 'wb') as file:\n",
    "    file.write(binary_data)"
   ]
  }
 ],
 "metadata": {
  "kernelspec": {
   "display_name": "Python 3",
   "language": "python",
   "name": "python3"
  },
  "language_info": {
   "codemirror_mode": {
    "name": "ipython",
    "version": 3
   },
   "file_extension": ".py",
   "mimetype": "text/x-python",
   "name": "python",
   "nbconvert_exporter": "python",
   "pygments_lexer": "ipython3",
   "version": "3.11.6"
  }
 },
 "nbformat": 4,
 "nbformat_minor": 2
}
